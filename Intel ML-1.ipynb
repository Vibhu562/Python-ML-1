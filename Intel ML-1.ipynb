{
 "cells": [
  {
   "cell_type": "markdown",
   "id": "81b50ad8",
   "metadata": {},
   "source": [
    "## Pandas and its Basics"
   ]
  },
  {
   "cell_type": "code",
   "execution_count": 65,
   "id": "4eeba436",
   "metadata": {},
   "outputs": [],
   "source": [
    "import pandas as pd\n",
    "import numpy as np\n",
    "import matplotlib.pyplot as plt\n",
    "import seaborn as sns"
   ]
  },
  {
   "cell_type": "code",
   "execution_count": 34,
   "id": "7aa9a3ab",
   "metadata": {},
   "outputs": [
    {
     "name": "stdout",
     "output_type": "stream",
     "text": [
      "0    3620\n",
      "1    7891\n",
      "2    9761\n",
      "3    3907\n",
      "4    4338\n",
      "5    5373\n",
      "Name: steps, dtype: int64\n"
     ]
    }
   ],
   "source": [
    "step_data = [3620, 7891, 9761,3907, 4338, 5373]\n",
    "\n",
    "# Series \n",
    "step_counts = pd.Series(step_data,name='steps')\n",
    "print(step_counts) "
   ]
  },
  {
   "cell_type": "code",
   "execution_count": 35,
   "id": "ac0889e1",
   "metadata": {},
   "outputs": [
    {
     "name": "stdout",
     "output_type": "stream",
     "text": [
      "2024-02-17    3620\n",
      "2024-02-18    7891\n",
      "2024-02-19    9761\n",
      "2024-02-20    3907\n",
      "2024-02-21    4338\n",
      "2024-02-22    5373\n",
      "Freq: D, Name: steps, dtype: int64\n"
     ]
    }
   ],
   "source": [
    "step_counts.index = pd.date_range('20240217',periods=6)\n",
    "print(step_counts)"
   ]
  },
  {
   "cell_type": "code",
   "execution_count": 36,
   "id": "79aba0f1",
   "metadata": {},
   "outputs": [
    {
     "name": "stdout",
     "output_type": "stream",
     "text": [
      "3620\n"
     ]
    }
   ],
   "source": [
    "# Like dictionary\n",
    "print(step_counts[0])"
   ]
  },
  {
   "cell_type": "code",
   "execution_count": 37,
   "id": "9eb21b0d",
   "metadata": {},
   "outputs": [
    {
     "name": "stdout",
     "output_type": "stream",
     "text": [
      "int64\n"
     ]
    }
   ],
   "source": [
    "# Datatypes of step_counts\n",
    "print(step_counts.dtypes)"
   ]
  },
  {
   "cell_type": "code",
   "execution_count": 38,
   "id": "65de7376",
   "metadata": {},
   "outputs": [
    {
     "name": "stderr",
     "output_type": "stream",
     "text": [
      "C:\\Users\\VIBHUN~1\\AppData\\Local\\Temp/ipykernel_10472/2967966821.py:2: DeprecationWarning: `np.float` is a deprecated alias for the builtin `float`. To silence this warning, use `float` by itself. Doing this will not modify any behavior and is safe. If you specifically wanted the numpy scalar type, use `np.float64` here.\n",
      "Deprecated in NumPy 1.20; for more details and guidance: https://numpy.org/devdocs/release/1.20.0-notes.html#deprecations\n",
      "  step_counts = step_counts.astype(np.float)\n"
     ]
    }
   ],
   "source": [
    "# Convert to a float\n",
    "step_counts = step_counts.astype(np.float)"
   ]
  },
  {
   "cell_type": "code",
   "execution_count": 40,
   "id": "8408e54d",
   "metadata": {},
   "outputs": [
    {
     "name": "stdout",
     "output_type": "stream",
     "text": [
      "2024-02-17    3620.0\n",
      "2024-02-18       6.0\n",
      "2024-02-19       6.0\n",
      "2024-02-20    3907.0\n",
      "2024-02-21    4338.0\n",
      "2024-02-22    5373.0\n",
      "Freq: D, Name: steps, dtype: float64\n"
     ]
    }
   ],
   "source": [
    "# Create invalid data\n",
    "step_counts[1:3] = np.NaN\n",
    "\n",
    "# Now fill it in with zeros\n",
    "step_counts = step_counts.fillna(0.)\n",
    "\n",
    "# step_counts.fillna(0., inplace=True)\n",
    "print(step_counts[1:3])"
   ]
  },
  {
   "cell_type": "markdown",
   "id": "f3fbe73e",
   "metadata": {},
   "source": [
    "# Next Part"
   ]
  },
  {
   "cell_type": "markdown",
   "id": "cb85798e",
   "metadata": {},
   "source": [
    "# Zip used to combine 2 columns together"
   ]
  },
  {
   "cell_type": "code",
   "execution_count": 43,
   "id": "ecf30d3a",
   "metadata": {},
   "outputs": [
    {
     "name": "stdout",
     "output_type": "stream",
     "text": [
      "      0     1\n",
      "0  3620  10.7\n",
      "1  7891   0.0\n",
      "2  9761   NaN\n",
      "3  3907   2.4\n",
      "4  4338  15.3\n",
      "5  5373  10.9\n"
     ]
    }
   ],
   "source": [
    "# Cycling distance\n",
    "cycling_data = [10.7, 0, None, 2.4, 15.3, 10.9, 0, None]\n",
    "\n",
    "# Create a list of data\n",
    "joined_data = list(zip(step_data, cycling_data))\n",
    "\n",
    "# The dataframe ( Rows and Columns)\n",
    "activity_df = pd.DataFrame(joined_data)\n",
    "print(activity_df)"
   ]
  },
  {
   "cell_type": "code",
   "execution_count": 45,
   "id": "c19b8e75",
   "metadata": {},
   "outputs": [
    {
     "name": "stdout",
     "output_type": "stream",
     "text": [
      "            Walking  Cycling\n",
      "2015-03-29     3620     10.7\n",
      "2015-03-30     7891      0.0\n",
      "2015-03-31     9761      NaN\n",
      "2015-04-01     3907      2.4\n",
      "2015-04-02     4338     15.3\n",
      "2015-04-03     5373     10.9\n",
      "\n",
      "            Walking  Cycling\n",
      "2015-03-29     3620     10.7\n",
      "2015-03-30     7891      0.0\n",
      "2015-03-31     9761      NaN\n",
      "2015-04-01     3907      2.4\n",
      "2015-04-02     4338     15.3\n",
      "2015-04-03     5373     10.9\n"
     ]
    }
   ],
   "source": [
    "# Add column names to dataframe\n",
    "activity_df = pd.DataFrame(joined_data,index=pd.date_range('20150329', periods=6), columns=['Walking','Cycling'])\n",
    "print(activity_df)\n",
    "print()\n",
    "# Add column names to dataframe\n",
    "activity_df = pd.DataFrame(joined_data,index=pd.date_range('20150329',periods=6),columns=['Walking','Cycling'])\n",
    "print(activity_df)\n"
   ]
  },
  {
   "cell_type": "markdown",
   "id": "f7790e4a",
   "metadata": {},
   "source": [
    "# new Dataframe "
   ]
  },
  {
   "cell_type": "code",
   "execution_count": 54,
   "id": "9a08a8bc",
   "metadata": {},
   "outputs": [
    {
     "name": "stdout",
     "output_type": "stream",
     "text": [
      "     sepal_length  sepal_width  petal_length  petal_width         species\n",
      "0             5.1          3.5           1.4          0.2     Iris-setosa\n",
      "1             4.9          3.0           1.4          0.2     Iris-setosa\n",
      "2             4.7          3.2           1.3          0.2     Iris-setosa\n",
      "3             4.6          3.1           1.5          0.2     Iris-setosa\n",
      "4             5.0          3.6           1.4          0.2     Iris-setosa\n",
      "..            ...          ...           ...          ...             ...\n",
      "145           6.7          3.0           5.2          2.3  Iris-virginica\n",
      "146           6.3          2.5           5.0          1.9  Iris-virginica\n",
      "147           6.5          3.0           5.2          2.0  Iris-virginica\n",
      "148           6.2          3.4           5.4          2.3  Iris-virginica\n",
      "149           5.9          3.0           5.1          1.8  Iris-virginica\n",
      "\n",
      "[150 rows x 5 columns]\n"
     ]
    }
   ],
   "source": [
    "# The location of the data file\n",
    "filepath = 'Iris_Data.csv'\n",
    "\n",
    "# Import the data\n",
    "data = pd.read_csv(filepath)\n",
    "\n",
    "# Print a few rows\n",
    "print(data.iloc[:])"
   ]
  },
  {
   "cell_type": "code",
   "execution_count": 55,
   "id": "3aa5deb6",
   "metadata": {},
   "outputs": [
    {
     "name": "stdout",
     "output_type": "stream",
     "text": [
      "   petal_width      species  sepal_area\n",
      "0          0.2  Iris-setosa       17.85\n",
      "1          0.2  Iris-setosa       14.70\n",
      "2          0.2  Iris-setosa       15.04\n",
      "3          0.2  Iris-setosa       14.26\n",
      "4          0.2  Iris-setosa       18.00\n"
     ]
    }
   ],
   "source": [
    "# Create a new column that is a product\n",
    "# of both measurements\n",
    "data['sepal_area'] = data.sepal_length *data.sepal_width\n",
    "# Print a few rows and column\n",
    "print(data.iloc[:5, -3:])"
   ]
  },
  {
   "cell_type": "code",
   "execution_count": 58,
   "id": "74b7ca86",
   "metadata": {},
   "outputs": [
    {
     "name": "stdout",
     "output_type": "stream",
     "text": [
      "       species  sepal_area  abbrev\n",
      "0  Iris-setosa       17.85  setosa\n",
      "1  Iris-setosa       14.70  setosa\n",
      "2  Iris-setosa       15.04  setosa\n",
      "3  Iris-setosa       14.26  setosa\n",
      "4  Iris-setosa       18.00  setosa\n"
     ]
    }
   ],
   "source": [
    "# The lambda function applies what\n",
    "data['abbrev'] = (data.species.apply(lambda x:x.replace('Iris-','')))\n",
    "# Note that there are other ways to\n",
    "print(data.iloc[:5, -3:])"
   ]
  },
  {
   "cell_type": "code",
   "execution_count": 59,
   "id": "a79f5525",
   "metadata": {},
   "outputs": [
    {
     "name": "stdout",
     "output_type": "stream",
     "text": [
      "species\n",
      "Iris-setosa        50\n",
      "Iris-versicolor    50\n",
      "Iris-virginica     50\n",
      "dtype: int64\n"
     ]
    }
   ],
   "source": [
    "# count of all species by groupby\n",
    "group_sizes = (data.groupby('species').size())\n",
    "print(group_sizes)"
   ]
  },
  {
   "cell_type": "code",
   "execution_count": 61,
   "id": "09a56824",
   "metadata": {},
   "outputs": [
    {
     "name": "stdout",
     "output_type": "stream",
     "text": [
      "5.843333333333335\n"
     ]
    }
   ],
   "source": [
    "# Mean of sepal_length\n",
    "print(data.sepal_length.mean())"
   ]
  },
  {
   "cell_type": "code",
   "execution_count": 63,
   "id": "31202822",
   "metadata": {},
   "outputs": [
    {
     "data": {
      "text/plain": [
       "[<matplotlib.lines.Line2D at 0x1a5f6192d60>]"
      ]
     },
     "execution_count": 63,
     "metadata": {},
     "output_type": "execute_result"
    },
    {
     "data": {
      "image/png": "[encoded data removed]",
      "text/plain": [
       "<Figure size 432x288 with 1 Axes>"
      ]
     },
     "metadata": {
      "needs_background": "light"
     },
     "output_type": "display_data"
    }
   ],
   "source": [
    "plt.plot(data.sepal_length,data.sepal_width,ls ='', marker='o')"
   ]
  },
  {
   "cell_type": "code",
   "execution_count": 64,
   "id": "9f3556c9",
   "metadata": {},
   "outputs": [
    {
     "data": {
      "text/plain": [
       "(array([ 4.,  1.,  6.,  5., 16.,  9.,  5.,  6.,  7., 14.,  7.,  9.,  6.,\n",
       "        13.,  7.,  7.,  8.,  3.,  5.,  1.,  4.,  1.,  1.,  4.,  1.]),\n",
       " array([4.3  , 4.444, 4.588, 4.732, 4.876, 5.02 , 5.164, 5.308, 5.452,\n",
       "        5.596, 5.74 , 5.884, 6.028, 6.172, 6.316, 6.46 , 6.604, 6.748,\n",
       "        6.892, 7.036, 7.18 , 7.324, 7.468, 7.612, 7.756, 7.9  ]),\n",
       " <BarContainer object of 25 artists>)"
      ]
     },
     "execution_count": 64,
     "metadata": {},
     "output_type": "execute_result"
    },
    {
     "data": {
      "image/png": "[encoded data removed]",
      "text/plain": [
       "<Figure size 432x288 with 1 Axes>"
      ]
     },
     "metadata": {
      "needs_background": "light"
     },
     "output_type": "display_data"
    }
   ],
   "source": [
    "plt.hist(data.sepal_length, bins=25)"
   ]
  },
  {
   "cell_type": "code",
   "execution_count": 66,
   "id": "11072821",
   "metadata": {},
   "outputs": [
    {
     "name": "stderr",
     "output_type": "stream",
     "text": [
      "C:\\Users\\Vibhu Nohria\\anaconda3\\lib\\site-packages\\seaborn\\axisgrid.py:2182: UserWarning: The `size` parameter has been renamed to `height`; please update your code.\n",
      "  warnings.warn(msg, UserWarning)\n"
     ]
    },
    {
     "data": {
      "text/plain": [
       "<seaborn.axisgrid.JointGrid at 0x1a5f613b040>"
      ]
     },
     "execution_count": 66,
     "metadata": {},
     "output_type": "execute_result"
    },
    {
     "data": {
      "image/png": "[encoded data removed]",
      "text/plain": [
       "<Figure size 288x288 with 3 Axes>"
      ]
     },
     "metadata": {
      "needs_background": "light"
     },
     "output_type": "display_data"
    }
   ],
   "source": [
    "sns.jointplot(x='sepal_length',y='sepal_width',data=data, size=4)"
   ]
  },
  {
   "cell_type": "code",
   "execution_count": null,
   "id": "f989e018",
   "metadata": {},
   "outputs": [],
   "source": []
  }
 ],
 "metadata": {
  "kernelspec": {
   "display_name": "Python 3 (ipykernel)",
   "language": "python",
   "name": "python3"
  },
  "language_info": {
   "codemirror_mode": {
    "name": "ipython",
    "version": 3
   },
   "file_extension": ".py",
   "mimetype": "text/x-python",
   "name": "python",
   "nbconvert_exporter": "python",
   "pygments_lexer": "ipython3",
   "version": "3.9.7"
  }
 },
 "nbformat": 4,
 "nbformat_minor": 5
}
